{
 "cells": [
  {
   "cell_type": "code",
   "execution_count": 1,
   "id": "b3975b6f-92fb-4301-b473-22ef895be197",
   "metadata": {},
   "outputs": [],
   "source": [
    "from wordle import *"
   ]
  },
  {
   "cell_type": "code",
   "execution_count": 2,
   "id": "a5873b20-d6ac-487c-a21e-bffb7c98c337",
   "metadata": {},
   "outputs": [
    {
     "name": "stdout",
     "output_type": "stream",
     "text": [
      "\u001b[H\u001b[2Jloaded 15918 words with length 5\n"
     ]
    },
    {
     "name": "stdin",
     "output_type": "stream",
     "text": [
      "Enter name for Player 0:  horse\n",
      "Enter name for Player 1:  monkey\n"
     ]
    },
    {
     "name": "stdout",
     "output_type": "stream",
     "text": [
      "Welcome horse and monkey!\n",
      "\n",
      "\u001b[H\u001b[2J"
     ]
    },
    {
     "name": "stdin",
     "output_type": "stream",
     "text": [
      "First, horse, please enter a word:  super\n"
     ]
    },
    {
     "name": "stdout",
     "output_type": "stream",
     "text": [
      "\u001b[H\u001b[2JThanks!  Here we go...\n",
      "\n"
     ]
    },
    {
     "name": "stdin",
     "output_type": "stream",
     "text": [
      "monkey, your first guess please:  sport\n"
     ]
    },
    {
     "name": "stdout",
     "output_type": "stream",
     "text": [
      "#1, 'sport' --> !?X?X\n"
     ]
    },
    {
     "name": "stdin",
     "output_type": "stream",
     "text": [
      "monkey, your second guess please:  pluto\n"
     ]
    },
    {
     "name": "stdout",
     "output_type": "stream",
     "text": [
      "#2, 'sport' --> !?X?X\n",
      "#2, 'pluto' --> ?X?XX\n"
     ]
    },
    {
     "name": "stdin",
     "output_type": "stream",
     "text": [
      "monkey, your third guess please:  ports\n"
     ]
    },
    {
     "name": "stdout",
     "output_type": "stream",
     "text": [
      "#3, 'sport' --> !?X?X\n",
      "#3, 'pluto' --> ?X?XX\n",
      "#3, 'ports' --> ?X?X?\n"
     ]
    },
    {
     "name": "stdin",
     "output_type": "stream",
     "text": [
      "monkey, your fourth guess please:  super\n"
     ]
    },
    {
     "name": "stdout",
     "output_type": "stream",
     "text": [
      "Success!  Well done.\n"
     ]
    },
    {
     "name": "stdin",
     "output_type": "stream",
     "text": [
      "Play again (y/n)?  n\n"
     ]
    },
    {
     "name": "stdout",
     "output_type": "stream",
     "text": [
      "Well, we had fun.  Final scores:\n",
      "\tPlayer horse score: 0\n",
      "\tPlayer monkey score: 1\n"
     ]
    }
   ],
   "source": [
    "play()"
   ]
  }
 ],
 "metadata": {
  "kernelspec": {
   "display_name": "Python 3 (ipykernel)",
   "language": "python",
   "name": "python3"
  },
  "language_info": {
   "codemirror_mode": {
    "name": "ipython",
    "version": 3
   },
   "file_extension": ".py",
   "mimetype": "text/x-python",
   "name": "python",
   "nbconvert_exporter": "python",
   "pygments_lexer": "ipython3",
   "version": "3.10.0"
  }
 },
 "nbformat": 4,
 "nbformat_minor": 5
}
